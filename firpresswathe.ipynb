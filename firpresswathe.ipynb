{
	"cells": [
		{
			"cell_type": "code",
			"execution_count": null,
			"metadata": {
				"id": "HcClwtnHJo3A"
			},
			"outputs": [],
			"source": [
				"#@markdown **Check GPU**\n",
				"!nvidia-smi"
			]
		},
		{
			"cell_type": "code",
			"execution_count": null,
			"metadata": {
				"id": "irgHlkBTJo3G"
			},
			"outputs": [],
			"source": [
				"%pip install -q faster-whisper transformers"
			]
		},
		{
			"cell_type": "code",
			"execution_count": null,
			"metadata": {
				"id": "t18z0RuLJo3G"
			},
			"outputs": [],
			"source": [
				"import faster_whisper, math"
			]
		},
		{
			"cell_type": "code",
			"execution_count": null,
			"metadata": {
				"id": "lvG31NcEJo3G"
			},
			"outputs": [],
			"source": [
				"#@markdown **SRT extract tools**\n",
				"def convert_to_hms(seconds: float) -> str:\n",
				"\thours, remainder = divmod(seconds, 3600)\n",
				"\tminutes, seconds = divmod(remainder, 60)\n",
				"\tmilliseconds = math.floor((seconds % 1) * 1000)\n",
				"\toutput = f\"{int(hours):02}:{int(minutes):02}:{int(seconds):02},{milliseconds:03}\"\n",
				"\treturn output\n",
				"\n",
				"def save_srt(segs, filename: str) -> None:\n",
				"\tcount = 0\n",
				"\tfull_txt = []\n",
				"\tfor segment in segs:\n",
				"\t\tcount +=1\n",
				"\t\tduration = f\"{convert_to_hms(segment.start)} --> {convert_to_hms(segment.end)}\\n\"\n",
				"\t\ttext = f\"{segment.text.lstrip()}\\n\\n\"\n",
				"\t\tfull_txt.append(f\"{count}\\n{duration}{text}\")\n",
				"\twith open(filename, mode=\"w\", encoding=\"UTF-8\") as f:\n",
				"\t\tf.writelines(full_txt)"
			]
		},
		{
			"cell_type": "code",
			"execution_count": null,
			"metadata": {
				"id": "Psb9QdQqJo3H"
			},
			"outputs": [],
			"source": [
				"#@markdown **Fine-tuned model from huggingface**\n",
				"!ct2-transformers-converter --model vumichien/whisper-large-v2-mix-jp --output_dir test-ct2 --quantization float16"
			]
		},
		{
			"cell_type": "code",
			"execution_count": null,
			"metadata": {
				"id": "n5rcrTA7Jo3H"
			},
			"outputs": [],
			"source": [
				"model = faster_whisper.WhisperModel(\"large-v2\", device=\"cuda\", compute_type=\"float16\")"
			]
		},
		{
			"cell_type": "code",
			"execution_count": null,
			"metadata": {
				"id": "_cilm9UuJo3G"
			},
			"outputs": [],
			"source": [
				"segments, info = model.transcribe(\"HNDS-048.mp4\", language=\"ja\", task=\"translate\", vad_filter=True) # built-in Silero VAD\n",
				"\n",
				"save_srt(segments, \"hnds048.srt\")"
			]
		}
	],
	"metadata": {
		"accelerator": "GPU",
		"colab": {
			"name": "faster_whisper.ipynb",
			"private_outputs": true,
			"provenance": []
		},
		"gpuClass": "standard",
		"kernelspec": {
			"display_name": "Python 3",
			"name": "python3"
		},
		"language_info": {
			"name": "python"
		}
	},
	"nbformat": 4,
	"nbformat_minor": 0
}
